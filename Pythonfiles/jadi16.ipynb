{
 "cells": [
  {
   "cell_type": "code",
   "execution_count": 7,
   "source": [
    "import random\r\n",
    "random.seed()\r\n",
    "\r\n",
    "people = []\r\n",
    "for i in range(0,50):\r\n",
    "    people.append(100)\r\n",
    "\r\n",
    "for beshkan in range(0,1000):\r\n",
    "    for person1 in range(0,50):\r\n",
    "        person2 =  random.randrange(0,50)\r\n",
    "        while people[person2] == 0:\r\n",
    "            person2 =  random.randrange(0,50)\r\n",
    "        if people[person1] != 0:\r\n",
    "            people[person1] = people[person1] - 1\r\n",
    "            people[person2] = people[person2] + 1"
   ],
   "outputs": [],
   "metadata": {}
  },
  {
   "cell_type": "code",
   "execution_count": 8,
   "source": [
    "import matplotlib.pyplot as plt\r\n",
    "%matplotlib inline\r\n",
    "\r\n",
    "plt.bar(range(0,50),people)"
   ],
   "outputs": [
    {
     "output_type": "execute_result",
     "data": {
      "text/plain": [
       "<BarContainer object of 50 artists>"
      ]
     },
     "metadata": {},
     "execution_count": 8
    },
    {
     "output_type": "display_data",
     "data": {
      "image/png": "[encoded data removed]",
      "text/plain": [
       "<Figure size 432x288 with 1 Axes>"
      ]
     },
     "metadata": {
      "needs_background": "light"
     }
    }
   ],
   "metadata": {}
  }
 ],
 "metadata": {
  "orig_nbformat": 4,
  "language_info": {
   "name": "python",
   "version": "3.9.6",
   "mimetype": "text/x-python",
   "codemirror_mode": {
    "name": "ipython",
    "version": 3
   },
   "pygments_lexer": "ipython3",
   "nbconvert_exporter": "python",
   "file_extension": ".py"
  },
  "kernelspec": {
   "name": "python3",
   "display_name": "Python 3.9.6 64-bit"
  },
  "interpreter": {
   "hash": "f92d82e32ca605f7b84a3ca8f9d2a7065f3899ca5a79df394c7943be4bf9214f"
  }
 },
 "nbformat": 4,
 "nbformat_minor": 2
}